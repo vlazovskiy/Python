{
 "cells": [
  {
   "cell_type": "code",
   "execution_count": 1,
   "metadata": {
    "collapsed": true
   },
   "outputs": [],
   "source": [
    "def get_element(n):\n",
    "    '''Given the first elements are 0 and 1 and the sequence is given\n",
    "       by the formula a(n) = 2 * a(n-1) + a(n-2), finds the element a(n).\n",
    "       \n",
    "       Assume the input n starts at 1, i.e. the first element would be called\n",
    "       as get_element(1).'''\n",
    "    \n",
    "    element_list = [0, 1]\n",
    "    if n <= 2:\n",
    "        return element_list[n - 1]\n",
    "    else:\n",
    "        for i in range(2, n):\n",
    "            element_list.append(2 * element_list[i - 1] + element_list[i - 2])\n",
    "        return element_list[n - 1]"
   ]
  },
  {
   "cell_type": "code",
   "execution_count": 2,
   "metadata": {},
   "outputs": [
    {
     "name": "stdout",
     "output_type": "stream",
     "text": [
      "CPU times: user 1.15 ms, sys: 227 µs, total: 1.38 ms\n",
      "Wall time: 1.38 ms\n"
     ]
    },
    {
     "data": {
      "text/plain": [
       "521254715588042431637971744574416128124330813721134092733722117783234948747956521175193407950138899172457569252727579701055165993896131626619917923268759327584033174189683240061784088768604219224172364870187487718113101350082481159281404258023692388874712090972954450248848970921785019993286035244606523955301948823849605453172669297923003283380016463135092503326883363437561638028664016170827050491752177631025981914290630966705389975516527071592616899329056940435882928021721638186117036475162111059581403305725195606001970429003216414899569475616226464343642812683031552765114503203009471335165441290486129260886210801060623862190433514800984647429123618723896840988886287689867167955276319476861069174101203004942867577631274851646211177852201952179154421016209"
      ]
     },
     "execution_count": 2,
     "metadata": {},
     "output_type": "execute_result"
    }
   ],
   "source": [
    "%%time\n",
    "get_element(2000)"
   ]
  }
 ],
 "metadata": {
  "kernelspec": {
   "display_name": "Python 3",
   "language": "python",
   "name": "python3"
  },
  "language_info": {
   "codemirror_mode": {
    "name": "ipython",
    "version": 3
   },
   "file_extension": ".py",
   "mimetype": "text/x-python",
   "name": "python",
   "nbconvert_exporter": "python",
   "pygments_lexer": "ipython3",
   "version": "3.6.4"
  }
 },
 "nbformat": 4,
 "nbformat_minor": 2
}
