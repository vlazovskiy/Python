{
 "cells": [
  {
   "cell_type": "code",
   "execution_count": 46,
   "metadata": {},
   "outputs": [],
   "source": [
    "def highest_product_of_3(input_list):\n",
    "    \n",
    "    if len(input_list) < 3:\n",
    "        raise ValueError('Less than 3 items!')\n",
    "        \n",
    "    highest = max(input_list[0], input_list[1])\n",
    "    lowest = min(input_list[0], input_list[1])\n",
    "    highest_product_of_2 = input_list[0] * input_list[1]\n",
    "    lowest_product_of_2 = input_list[0] * input_list[1]\n",
    "    highest_product_of_3 = input_list[0] * input_list[1] * input_list[2]\n",
    "    \n",
    "    for value in input_list[2:]:\n",
    "            \n",
    "        highest_product_of_3 = max(highest_product_of_3,\n",
    "                                   value * highest_product_of_2,\n",
    "                                   value * lowest_product_of_2)\n",
    "            \n",
    "        lowest_product_of_2 = min(lowest_product_of_2, \n",
    "                                  value * lowest, \n",
    "                                  value * highest)\n",
    "            \n",
    "        highest_product_of_2 = max(highest_product_of_2, \n",
    "                                   value * highest, \n",
    "                                   value * lowest)\n",
    "            \n",
    "        highest = max(highest, value)\n",
    "            \n",
    "        lowest = min(lowest, value)\n",
    "        \n",
    "    return highest_product_of_3"
   ]
  },
  {
   "cell_type": "code",
   "execution_count": 47,
   "metadata": {},
   "outputs": [
    {
     "data": {
      "text/plain": [
       "270"
      ]
     },
     "execution_count": 47,
     "metadata": {},
     "output_type": "execute_result"
    }
   ],
   "source": [
    "highest_product_of_3([3, -7, 2, 9, 1, 10, -2])"
   ]
  }
 ],
 "metadata": {
  "kernelspec": {
   "display_name": "Python 3",
   "language": "python",
   "name": "python3"
  },
  "language_info": {
   "codemirror_mode": {
    "name": "ipython",
    "version": 3
   },
   "file_extension": ".py",
   "mimetype": "text/x-python",
   "name": "python",
   "nbconvert_exporter": "python",
   "pygments_lexer": "ipython3",
   "version": "3.6.4"
  }
 },
 "nbformat": 4,
 "nbformat_minor": 2
}
