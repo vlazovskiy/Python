{
 "cells": [
  {
   "cell_type": "code",
   "execution_count": 5,
   "metadata": {
    "collapsed": true
   },
   "outputs": [],
   "source": [
    "def sort_list(unsorted_list, highest_value):\n",
    "    \n",
    "    value_counts = [0] * (highest_value+1)\n",
    "\n",
    "    for value in unsorted_list:\n",
    "        value_counts[value] += 1\n",
    "\n",
    "    sorted_values = []\n",
    "    \n",
    "    for value in range(len(value_counts) - 1, -1, -1):\n",
    "        count = value_counts[value]\n",
    "        \n",
    "        for _ in range(count):\n",
    "            sorted_values.append(value)\n",
    "\n",
    "    sorted_values.reverse()\n",
    "    \n",
    "    return sorted_values"
   ]
  },
  {
   "cell_type": "code",
   "execution_count": 6,
   "metadata": {
    "collapsed": true
   },
   "outputs": [],
   "source": [
    "list_1 = [3, 99, 12, 34, 67, 11]\n",
    "highest_value_1 = 100"
   ]
  },
  {
   "cell_type": "code",
   "execution_count": 7,
   "metadata": {},
   "outputs": [
    {
     "data": {
      "text/plain": [
       "[3, 11, 12, 34, 67, 99]"
      ]
     },
     "execution_count": 7,
     "metadata": {},
     "output_type": "execute_result"
    }
   ],
   "source": [
    "sort_list(list_1, highest_value_1)"
   ]
  },
  {
   "cell_type": "code",
   "execution_count": 8,
   "metadata": {
    "collapsed": true
   },
   "outputs": [],
   "source": [
    "list_2 = []\n",
    "highest_value_2 = 100"
   ]
  },
  {
   "cell_type": "code",
   "execution_count": 9,
   "metadata": {},
   "outputs": [
    {
     "data": {
      "text/plain": [
       "[]"
      ]
     },
     "execution_count": 9,
     "metadata": {},
     "output_type": "execute_result"
    }
   ],
   "source": [
    "sort_list(list_2, highest_value_2)"
   ]
  }
 ],
 "metadata": {
  "kernelspec": {
   "display_name": "Python 3",
   "language": "python",
   "name": "python3"
  },
  "language_info": {
   "codemirror_mode": {
    "name": "ipython",
    "version": 3
   },
   "file_extension": ".py",
   "mimetype": "text/x-python",
   "name": "python",
   "nbconvert_exporter": "python",
   "pygments_lexer": "ipython3",
   "version": "3.6.4"
  }
 },
 "nbformat": 4,
 "nbformat_minor": 2
}
