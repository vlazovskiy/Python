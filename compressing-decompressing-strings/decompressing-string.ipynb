{
 "cells": [
  {
   "cell_type": "code",
   "execution_count": 5,
   "metadata": {
    "collapsed": true
   },
   "outputs": [],
   "source": [
    "def decompress_string(input_string):\n",
    "\n",
    "    count_string = ''\n",
    "    decompressed_string = ''\n",
    "\n",
    "    for index in range (0, len(input_string)):\n",
    "\n",
    "        try:\n",
    "            int(input_string[index])\n",
    "            count_string = count_string + input_string[index]\n",
    "        except:\n",
    "            count_integer = int(count_string)\n",
    "            decompressed_string = decompressed_string + input_string[index] * count_integer\n",
    "            count_string = ''\n",
    "\n",
    "    return decompressed_string"
   ]
  },
  {
   "cell_type": "code",
   "execution_count": 6,
   "metadata": {},
   "outputs": [
    {
     "data": {
      "text/plain": [
       "'AAABBBCCD'"
      ]
     },
     "execution_count": 6,
     "metadata": {},
     "output_type": "execute_result"
    }
   ],
   "source": [
    "decompress_string('3A3B2C1D')"
   ]
  },
  {
   "cell_type": "code",
   "execution_count": 7,
   "metadata": {},
   "outputs": [
    {
     "data": {
      "text/plain": [
       "''"
      ]
     },
     "execution_count": 7,
     "metadata": {},
     "output_type": "execute_result"
    }
   ],
   "source": [
    "decompress_string('')"
   ]
  }
 ],
 "metadata": {
  "kernelspec": {
   "display_name": "Python 3",
   "language": "python",
   "name": "python3"
  },
  "language_info": {
   "codemirror_mode": {
    "name": "ipython",
    "version": 3
   },
   "file_extension": ".py",
   "mimetype": "text/x-python",
   "name": "python",
   "nbconvert_exporter": "python",
   "pygments_lexer": "ipython3",
   "version": "3.6.4"
  }
 },
 "nbformat": 4,
 "nbformat_minor": 2
}
