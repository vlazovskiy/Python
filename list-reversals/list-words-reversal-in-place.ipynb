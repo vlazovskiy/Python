{
 "cells": [
  {
   "cell_type": "code",
   "execution_count": 33,
   "metadata": {
    "collapsed": true
   },
   "outputs": [],
   "source": [
    "#Define a helper function\n",
    "def reverse_characters(characters_list, left_index, right_index):\n",
    "    \n",
    "    while left_index < right_index:\n",
    "        characters_list[left_index], characters_list[right_index] = \\\n",
    "                                     characters_list[right_index], characters_list[left_index]\n",
    "        left_index = left_index + 1\n",
    "        right_index = right_index - 1"
   ]
  },
  {
   "cell_type": "code",
   "execution_count": 34,
   "metadata": {
    "collapsed": true
   },
   "outputs": [],
   "source": [
    "#Main function\n",
    "def reverse_words(message_list):\n",
    "    \n",
    "    reverse_characters(message_list, 0, len(message_list) - 1)\n",
    "    word_start = 0\n",
    "    \n",
    "    for index in range(len(message_list) + 1):\n",
    "        if (index == len(message_list)) or (message_list[index] == ' '):\n",
    "            reverse_characters(message_list, word_start, index - 1)\n",
    "            word_start = index + 1"
   ]
  },
  {
   "cell_type": "code",
   "execution_count": 35,
   "metadata": {
    "collapsed": true
   },
   "outputs": [],
   "source": [
    "sample_list = ['H', 'e', 'l', 'l', 'o', ' ', 'm', 'y', ' ', 'n', 'a', 'm', 'e', ' ', 'i', 's', ' ', \\\n",
    "               'V', 'l', 'a', 'd', 'i', 'm', 'i', 'r'] #Hello my name is Vladimir"
   ]
  },
  {
   "cell_type": "code",
   "execution_count": 36,
   "metadata": {
    "collapsed": true
   },
   "outputs": [],
   "source": [
    "reverse_words(sample_list)"
   ]
  },
  {
   "cell_type": "code",
   "execution_count": 37,
   "metadata": {},
   "outputs": [
    {
     "name": "stdout",
     "output_type": "stream",
     "text": [
      "Vladimir is name my Hello\n"
     ]
    }
   ],
   "source": [
    "print(''.join(sample_list))"
   ]
  }
 ],
 "metadata": {
  "kernelspec": {
   "display_name": "Python 3",
   "language": "python",
   "name": "python3"
  },
  "language_info": {
   "codemirror_mode": {
    "name": "ipython",
    "version": 3
   },
   "file_extension": ".py",
   "mimetype": "text/x-python",
   "name": "python",
   "nbconvert_exporter": "python",
   "pygments_lexer": "ipython3",
   "version": "3.6.4"
  }
 },
 "nbformat": 4,
 "nbformat_minor": 2
}
