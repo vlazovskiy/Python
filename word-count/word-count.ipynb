{
 "cells": [
  {
   "cell_type": "code",
   "execution_count": 52,
   "metadata": {
    "collapsed": true
   },
   "outputs": [],
   "source": [
    "def get_word_count(text_data):\n",
    "    \n",
    "    text_data = text_data.replace(',', '')\n",
    "    text_data = text_data.replace('.', '')\n",
    "    text_data = text_data.replace(':', '')\n",
    "    text_data = text_data.replace(';', '')\n",
    "    text_data = text_data.replace('!', '')\n",
    "    text_data = text_data.replace('?', '')\n",
    "    text_data = text_data.lower()\n",
    "    \n",
    "    word_count_dict = {}\n",
    "    \n",
    "    word_list = text_data.split(' ')\n",
    "    \n",
    "    for word in word_list:\n",
    "        if word not in word_count_dict:\n",
    "            word_count_dict[word] = 1\n",
    "        else:\n",
    "            word_count_dict[word] = word_count_dict[word] + 1\n",
    "            \n",
    "    return word_count_dict"
   ]
  },
  {
   "cell_type": "code",
   "execution_count": 60,
   "metadata": {
    "collapsed": true
   },
   "outputs": [],
   "source": [
    "string_1 = ''\n",
    "string_2 = 'I advocate grilling your interviewer for a few reasons:'\n",
    "string_3 = \"That said, you will probably have some burning questions you actually want to ask your specific \\\n",
    "interviewer, like How did you get into data engineering? or What are your feelings on the company’s \\\n",
    "transition toward service-oriented architecture?\""
   ]
  },
  {
   "cell_type": "code",
   "execution_count": 61,
   "metadata": {},
   "outputs": [
    {
     "data": {
      "text/plain": [
       "{'': 1}"
      ]
     },
     "execution_count": 61,
     "metadata": {},
     "output_type": "execute_result"
    }
   ],
   "source": [
    "get_word_count(string_1)"
   ]
  },
  {
   "cell_type": "code",
   "execution_count": 62,
   "metadata": {},
   "outputs": [
    {
     "data": {
      "text/plain": [
       "{'a': 1,\n",
       " 'advocate': 1,\n",
       " 'few': 1,\n",
       " 'for': 1,\n",
       " 'grilling': 1,\n",
       " 'i': 1,\n",
       " 'interviewer': 1,\n",
       " 'reasons': 1,\n",
       " 'your': 1}"
      ]
     },
     "execution_count": 62,
     "metadata": {},
     "output_type": "execute_result"
    }
   ],
   "source": [
    "get_word_count(string_2)"
   ]
  },
  {
   "cell_type": "code",
   "execution_count": 63,
   "metadata": {},
   "outputs": [
    {
     "data": {
      "text/plain": [
       "{'actually': 1,\n",
       " 'architecture': 1,\n",
       " 'are': 1,\n",
       " 'ask': 1,\n",
       " 'burning': 1,\n",
       " 'company’s': 1,\n",
       " 'data': 1,\n",
       " 'did': 1,\n",
       " 'engineering': 1,\n",
       " 'feelings': 1,\n",
       " 'get': 1,\n",
       " 'have': 1,\n",
       " 'how': 1,\n",
       " 'interviewer': 1,\n",
       " 'into': 1,\n",
       " 'like': 1,\n",
       " 'on': 1,\n",
       " 'or': 1,\n",
       " 'probably': 1,\n",
       " 'questions': 1,\n",
       " 'said': 1,\n",
       " 'service-oriented': 1,\n",
       " 'some': 1,\n",
       " 'specific': 1,\n",
       " 'that': 1,\n",
       " 'the': 1,\n",
       " 'to': 1,\n",
       " 'toward': 1,\n",
       " 'transition': 1,\n",
       " 'want': 1,\n",
       " 'what': 1,\n",
       " 'will': 1,\n",
       " 'you': 3,\n",
       " 'your': 2}"
      ]
     },
     "execution_count": 63,
     "metadata": {},
     "output_type": "execute_result"
    }
   ],
   "source": [
    "get_word_count(string_3)"
   ]
  }
 ],
 "metadata": {
  "kernelspec": {
   "display_name": "Python 3",
   "language": "python",
   "name": "python3"
  },
  "language_info": {
   "codemirror_mode": {
    "name": "ipython",
    "version": 3
   },
   "file_extension": ".py",
   "mimetype": "text/x-python",
   "name": "python",
   "nbconvert_exporter": "python",
   "pygments_lexer": "ipython3",
   "version": "3.6.4"
  }
 },
 "nbformat": 4,
 "nbformat_minor": 2
}
