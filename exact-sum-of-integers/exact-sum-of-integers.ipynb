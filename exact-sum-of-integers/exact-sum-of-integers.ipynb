{
 "cells": [
  {
   "cell_type": "code",
   "execution_count": 15,
   "metadata": {
    "collapsed": true
   },
   "outputs": [],
   "source": [
    "def is_exact_sum(input_integer, list_of_integers):\n",
    "    \n",
    "    for index in range(len(list_of_integers)):\n",
    "        \n",
    "        tracking_set = set(list_of_integers[:index] + list_of_integers[index+1:])\n",
    "        \n",
    "        if (input_integer - list_of_integers[index]) in tracking_set:\n",
    "            return True\n",
    "\n",
    "    return False"
   ]
  },
  {
   "cell_type": "code",
   "execution_count": 16,
   "metadata": {},
   "outputs": [],
   "source": [
    "list_1 = [1, 2, 3, 4, 5, 6, 7, 8]\n",
    "list_2 = [3, 3, 3]\n",
    "list_3 = [2, 4, 6]\n",
    "list_4 = [3, 1, 2]\n",
    "list_5 = []"
   ]
  },
  {
   "cell_type": "code",
   "execution_count": 17,
   "metadata": {},
   "outputs": [
    {
     "name": "stdout",
     "output_type": "stream",
     "text": [
      "True\n",
      "True\n",
      "True\n",
      "False\n",
      "False\n"
     ]
    }
   ],
   "source": [
    "print(is_exact_sum(6, list_1))\n",
    "print(is_exact_sum(6, list_2))\n",
    "print(is_exact_sum(6, list_3))\n",
    "print(is_exact_sum(6, list_4))\n",
    "print(is_exact_sum(6, list_5))"
   ]
  }
 ],
 "metadata": {
  "kernelspec": {
   "display_name": "Python 3",
   "language": "python",
   "name": "python3"
  },
  "language_info": {
   "codemirror_mode": {
    "name": "ipython",
    "version": 3
   },
   "file_extension": ".py",
   "mimetype": "text/x-python",
   "name": "python",
   "nbconvert_exporter": "python",
   "pygments_lexer": "ipython3",
   "version": "3.6.4"
  }
 },
 "nbformat": 4,
 "nbformat_minor": 2
}
