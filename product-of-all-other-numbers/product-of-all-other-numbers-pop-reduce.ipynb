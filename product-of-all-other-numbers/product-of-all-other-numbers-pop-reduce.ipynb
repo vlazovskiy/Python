{
 "cells": [
  {
   "cell_type": "code",
   "execution_count": 1,
   "metadata": {
    "collapsed": true
   },
   "outputs": [],
   "source": [
    "import functools\n",
    "\n",
    "def get_products_of_all_ints_except_at_index(input_list):\n",
    "    \n",
    "    list_copy = list(input_list)\n",
    "    \n",
    "    product_list = []\n",
    "    \n",
    "    for i in range(0, len(list_copy)):\n",
    "        temp = list_copy.pop(0) \n",
    "        product_list.append(functools.reduce(lambda x,y: x*y, list_copy))\n",
    "        list_copy.append(temp)  \n",
    "    \n",
    "    return product_list"
   ]
  }
 ],
 "metadata": {
  "kernelspec": {
   "display_name": "Python 3",
   "language": "python",
   "name": "python3"
  },
  "language_info": {
   "codemirror_mode": {
    "name": "ipython",
    "version": 3
   },
   "file_extension": ".py",
   "mimetype": "text/x-python",
   "name": "python",
   "nbconvert_exporter": "python",
   "pygments_lexer": "ipython3",
   "version": "3.6.4"
  }
 },
 "nbformat": 4,
 "nbformat_minor": 2
}
