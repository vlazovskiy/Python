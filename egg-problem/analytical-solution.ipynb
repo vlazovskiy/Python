{
 "cells": [
  {
   "cell_type": "markdown",
   "metadata": {
    "collapsed": true
   },
   "source": [
    "## solution thought process"
   ]
  },
  {
   "cell_type": "markdown",
   "metadata": {},
   "source": [
    "**#1.** Complete brute force approach: drop egg from floor 1 to 100. That would take only 1 egg and 99 tries in the worst case scenario (if the egg doesn't break when tossed from floor 99, then the only remaining floor is 100)."
   ]
  },
  {
   "cell_type": "markdown",
   "metadata": {},
   "source": [
    "**#2.** We could throw the first egg from floor 50. In the worst case scenraio, the $k^{th}$ floor is floor 49, so we would need another 49 tries to figure that out. If the $k^{th}$ floor is above, we will have fewer tries: we can throw the first egg again from floor 75 and look at the result, which means we would have to either test the second egg between floors 51-74 or throw the first egg again (if it didn't break) from floor 87. In any case, the worst case scenraio is still 1 attempt at floor 50 + 49 attemps from the floors between 1-49 inclusive. That's 50 in total."
   ]
  },
  {
   "cell_type": "markdown",
   "metadata": {},
   "source": [
    "**#3.** Instead of throwing the first egg from floor 50, what if we tried floor 10? If the first egg breaks at floor 10, then we have to test floors 1-9 with the second egg. That's 10 attempts in total. Now, in the worst case scenario, if the $k^{th}$ floor is 99, the first egg won't break until we throw it from floor 100. By then we will have already made 10 attemps. Then we will have to throw the second egg from floors 90-99, so that's 19 attempts in total."
   ]
  },
  {
   "cell_type": "markdown",
   "metadata": {},
   "source": [
    "**#4.** Perhaps, there is such an optimal interval that will minimize the number of attemps that we need to try before finding the $k^{th}$ floor? If this interval length is $x$, then there will be $100/x$ intervals where we can throw the first egg and $x-1$ attempts for the second egg to be thrown. We can write it as a function like so:\n",
    "\n",
    "$$f(x) = 100/x + (x-1)$$\n",
    "\n",
    "Unfortunately, floor numbers are integers, and there are only so many integers which go into 100. Moreover, what if the optimal minimum of this function is not an integer? How do we make sure that all our attempts for the first egg add nicely up to 100 or at least close?"
   ]
  },
  {
   "cell_type": "markdown",
   "metadata": {},
   "source": [
    "**#5.** One of the ways to ensure that the intervals add up nicely to 100 is to pick intervals of different lengths. Picking interval lengths at random is too confusing, so what if we look at intervals of consecutive lengths, like $x$, $x-1$, $x-2$, $x-3$. Then, perhaps, there is a number x such that:\n",
    "\n",
    "$$x + (x-1) + (x-2) + ... + (x-(x-2)) + (x-(x-1)) = 100$$\n",
    "\n",
    "in other words, \n",
    "\n",
    "$$x + (x-1) + (x-2) + ... + 2 + 1 = 100$$\n",
    "\n",
    "That way, if we throw the first egg from floor x and it breaks, we will need to throw the second egg from floors 1 to $(x-1)$. If the egg doesn't break, then we throw the first egg again from floor $x+(x-1) = 2x - 1$, and the second egg will beed to be thrown between floors $(2x-1)$ and $(x+1)$, meaning we will have to throw egg two $(2x-1)-(x+1)= x-2$ times. If the first egg doesn't break first two times, we will throw it from $x + (x-1) + (x-2) = 3x - 3$ floor, and the second egg will need to be thrown between floors $2x-1$ and $3x-3$, so we will be making $3x-3 - (2x-1) = x - 2$ attenps. So the more times we need to throw the first egg, the fewer times we will have to throw the second egg. In other words, the number of total attemps will be constant.\n",
    "\n",
    "So now we just have to solve $x + (x-1) + (x-2) + .... + 2 + 1 = 100$ for x. We can write the equation twice as:\n",
    "$$x + (x-1) + (x-2) + ... + 2 + 1 + 0 = 100$$\n",
    "$$0 + 1 + 2 + ... + (x-2) + (x-1) + x = 100$$\n",
    "If we add them together, we will get this:\n",
    "$$x + x + ... + x + x = 200$$\n",
    "or\n",
    "$$x(x+1) = 200$$\n",
    "$$x^2 + x - 200 = 0$$\n",
    "The only positive root is $x$ = 13.65"
   ]
  },
  {
   "cell_type": "markdown",
   "metadata": {},
   "source": [
    "**#6.** Since the floor number can't be a non-integer, what value whould we choose, 13 or 14? Let's test them both.\n",
    "\n",
    "For 13, we will throw the firs egg from floors 13, 25, 36, 46, 55, 63, 70, 76, 81, 85, 88, 90, 91 <- clearly, we won't reach floor 99, which could be the worst case scenario.  \n",
    "\n",
    "For 14, we have: 14, 27, 39, 50, 60, 69, 77, 84, 90, 95, 99, 102, 104, 105.\n",
    "\n",
    "When starting from floor 14, we actually go above floor 100, but it is fine, since we hit floor 99. This works because the first egg breaks at floor 99, then we know that the $k^{th}$ floor is floor 100. Note that the second egg will need to be thrown from floors 1-13 if the first egg breaks at 14, so the total number of attemps is 14. If the first egg breaks at floor 27, then the second egg will be thrown 13 times between floors 15-26, but that's another 14 attempts total."
   ]
  },
  {
   "cell_type": "markdown",
   "metadata": {},
   "source": [
    "## conclusion"
   ]
  },
  {
   "cell_type": "markdown",
   "metadata": {},
   "source": [
    "Hence, we have shown that the maximum number of total attempts to find the floor where eggs break is 14, when the total numnber of floors is 100. "
   ]
  }
 ],
 "metadata": {
  "kernelspec": {
   "display_name": "Python 3",
   "language": "python",
   "name": "python3"
  },
  "language_info": {
   "codemirror_mode": {
    "name": "ipython",
    "version": 3
   },
   "file_extension": ".py",
   "mimetype": "text/x-python",
   "name": "python",
   "nbconvert_exporter": "python",
   "pygments_lexer": "ipython3",
   "version": "3.6.4"
  }
 },
 "nbformat": 4,
 "nbformat_minor": 2
}
