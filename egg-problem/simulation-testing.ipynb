{
 "cells": [
  {
   "cell_type": "code",
   "execution_count": 114,
   "metadata": {},
   "outputs": [],
   "source": [
    "def egg_broken_simulation(k, step):\n",
    "    \n",
    "    egg_broken = [False, False]\n",
    "    attempts, first_break = 0, 0\n",
    "    step_size = step - 1\n",
    "    floor = step\n",
    "    \n",
    "    while not egg_broken[0]:\n",
    "        \n",
    "        attempts = attempts + 1\n",
    "        \n",
    "        if floor <= k:\n",
    "            floor = floor + step_size \n",
    "            step_size = step_size - 1\n",
    "        else:\n",
    "            egg_broken[0] = True\n",
    "            first_break = floor\n",
    "            floor = floor - step_size\n",
    "    \n",
    "    \n",
    "    while ((not egg_broken[1]) and (floor < first_break)):\n",
    "        \n",
    "        attempts = attempts + 1\n",
    "        \n",
    "        if floor == k:\n",
    "            egg_broken[1] = True\n",
    "        else:\n",
    "            floor = floor + 1\n",
    "            \n",
    "    print(\"Floor where the first egg breaks:\", first_break)\n",
    "    print(\"Total attempts:\", attempts)"
   ]
  },
  {
   "cell_type": "code",
   "execution_count": 115,
   "metadata": {},
   "outputs": [
    {
     "name": "stdout",
     "output_type": "stream",
     "text": [
      "Floor where the first egg breaks: 14\n",
      "Total attempts: 9\n"
     ]
    }
   ],
   "source": [
    "egg_broken_simulation(8, 14)"
   ]
  },
  {
   "cell_type": "code",
   "execution_count": 116,
   "metadata": {},
   "outputs": [
    {
     "name": "stdout",
     "output_type": "stream",
     "text": [
      "Floor where the first egg breaks: 102\n",
      "Total attempts: 14\n"
     ]
    }
   ],
   "source": [
    "egg_broken_simulation(99, 14)"
   ]
  },
  {
   "cell_type": "code",
   "execution_count": 117,
   "metadata": {},
   "outputs": [
    {
     "name": "stdout",
     "output_type": "stream",
     "text": [
      "Floor where the first egg breaks: 14\n",
      "Total attempts: 2\n"
     ]
    }
   ],
   "source": [
    "egg_broken_simulation(1, 14)"
   ]
  },
  {
   "cell_type": "code",
   "execution_count": 118,
   "metadata": {},
   "outputs": [
    {
     "name": "stdout",
     "output_type": "stream",
     "text": [
      "Floor where the first egg breaks: 84\n",
      "Total attempts: 11\n"
     ]
    }
   ],
   "source": [
    "egg_broken_simulation(80, 14)"
   ]
  },
  {
   "cell_type": "code",
   "execution_count": 119,
   "metadata": {},
   "outputs": [
    {
     "name": "stdout",
     "output_type": "stream",
     "text": [
      "Floor where the first egg breaks: 84\n",
      "Total attempts: 14\n"
     ]
    }
   ],
   "source": [
    "egg_broken_simulation(77, 14)"
   ]
  },
  {
   "cell_type": "code",
   "execution_count": 120,
   "metadata": {
    "collapsed": true
   },
   "outputs": [],
   "source": [
    "#re-write the function a little:\n",
    "def egg_broken_simulation(k, step):\n",
    "    \n",
    "    egg_broken = [False, False]\n",
    "    attempts = 0\n",
    "    step_size = step - 1\n",
    "    floor = step\n",
    "    \n",
    "    while not egg_broken[0]:\n",
    "        \n",
    "        attempts = attempts + 1\n",
    "        \n",
    "        if floor <= k:\n",
    "            floor = floor + step_size \n",
    "            step_size = step_size - 1\n",
    "        else:\n",
    "            egg_broken[0] = True\n",
    "            floor = floor - step_size\n",
    "    \n",
    "    \n",
    "    while ((not egg_broken[1]) and (floor < first_break)):\n",
    "        \n",
    "        attempts = attempts + 1\n",
    "        \n",
    "        if floor == k:\n",
    "            egg_broken[1] = True\n",
    "        else:\n",
    "            floor = floor + 1\n",
    "            \n",
    "    return attempts"
   ]
  },
  {
   "cell_type": "code",
   "execution_count": 121,
   "metadata": {},
   "outputs": [
    {
     "name": "stdout",
     "output_type": "stream",
     "text": [
      "13.0\n"
     ]
    }
   ],
   "source": [
    "import numpy as np\n",
    "\n",
    "attempts = []\n",
    "\n",
    "for k in range (1, 101):\n",
    "    attempts.append(egg_broken_simulation(k, 14))\n",
    "    \n",
    "print(np.ceil(sum(attempts)/len(attempts)))"
   ]
  },
  {
   "cell_type": "markdown",
   "metadata": {},
   "source": [
    "On average, we expect to make 13 attempts to find the floor where eggs breaks."
   ]
  }
 ],
 "metadata": {
  "kernelspec": {
   "display_name": "Python 3",
   "language": "python",
   "name": "python3"
  },
  "language_info": {
   "codemirror_mode": {
    "name": "ipython",
    "version": 3
   },
   "file_extension": ".py",
   "mimetype": "text/x-python",
   "name": "python",
   "nbconvert_exporter": "python",
   "pygments_lexer": "ipython3",
   "version": "3.6.4"
  }
 },
 "nbformat": 4,
 "nbformat_minor": 2
}
