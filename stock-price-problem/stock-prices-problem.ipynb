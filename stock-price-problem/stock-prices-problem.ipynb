{
 "cells": [
  {
   "cell_type": "code",
   "execution_count": 1,
   "metadata": {
    "collapsed": true
   },
   "outputs": [],
   "source": [
    "import random\n",
    "\n",
    "test_random = random.sample(range(1, 100), 50)\n",
    "test_contant_values = [1] * 50\n",
    "test_descending_values = sorted(random.sample(range(1, 100), 50), reverse=True) \n",
    "test_empty_list = []"
   ]
  },
  {
   "cell_type": "code",
   "execution_count": 2,
   "metadata": {
    "collapsed": true
   },
   "outputs": [],
   "source": [
    "#This inefficient function works in O(n^2) time and space because it has two nested loops.\n",
    "#Although inefficient, this brute-force approach works, so I am going to use it as my benchmark for a better solution.\n",
    "\n",
    "def get_max_profit(stock_prices):\n",
    "    '''This function takes the stock prices list and generates differences between each pair of prices.\n",
    "    Each row of this new two-dimensional array shows the difference the i-th element and others in the original list.'''\n",
    "    \n",
    "    try:\n",
    "        temp_list = []\n",
    "\n",
    "        for i in range(1, len(stock_prices)):\n",
    "            for j in range(0, i):\n",
    "                temp_list.append(stock_prices[i] - stock_prices[j])\n",
    "\n",
    "        return max(temp_list)\n",
    "    \n",
    "    except ValueError:\n",
    "        print(\"The input list has to have two or more values.\")"
   ]
  },
  {
   "cell_type": "code",
   "execution_count": 3,
   "metadata": {},
   "outputs": [
    {
     "name": "stdout",
     "output_type": "stream",
     "text": [
      "Test with random values: 96\n",
      "Test with constant values: 0\n",
      "Test with descending values: -1\n",
      "The input list has to have two or more values.\n"
     ]
    }
   ],
   "source": [
    "print(\"Test with random values:\", get_max_profit(test_random))\n",
    "print(\"Test with constant values:\", get_max_profit(test_contant_values))\n",
    "print(\"Test with descending values:\", get_max_profit(test_descending_values))\n",
    "get_max_profit(test_empty_list)"
   ]
  },
  {
   "cell_type": "code",
   "execution_count": 4,
   "metadata": {
    "collapsed": true
   },
   "outputs": [],
   "source": [
    "#This solution works in O(n) time and constant space, since we store the list only once and iterate only once.\n",
    "\n",
    "def get_max_profit(stock_prices):\n",
    "    '''This function takes the stock prices list and sets the minimum price and maximum profit at the start.\n",
    "    At each iteration if keeps track of the maximum profit that could be made and the minimum price.\n",
    "    We can assign values like this because lists are ordered objects.'''\n",
    "    \n",
    "    try:\n",
    "        \n",
    "        max_profit = stock_prices[1] - stock_prices[0] #set max profit as the difference between first 2 elements.\n",
    "        min_price = stock_prices[0] #set mininmum price as the very first price\n",
    "\n",
    "        for i in range(1, len(stock_prices)):\n",
    "            \n",
    "            #Assign our max profit the greater value of the old max_profit and new maximum profit given current price\n",
    "            max_profit = max(max_profit, stock_prices[i] - min_price)\n",
    "            #To keep track of the minimum price, assign the minimum of the current min_price and current price    \n",
    "            min_price = min(min_price, stock_prices[i])\n",
    "            \n",
    "        return max_profit\n",
    "    \n",
    "    except IndexError:\n",
    "        print(\"The input list has to have two or more values.\")"
   ]
  },
  {
   "cell_type": "code",
   "execution_count": 5,
   "metadata": {},
   "outputs": [
    {
     "name": "stdout",
     "output_type": "stream",
     "text": [
      "Test with random values: 96\n",
      "Test with constant values: 0\n",
      "Test with descending values: -1\n",
      "The input list has to have two or more values.\n"
     ]
    }
   ],
   "source": [
    "print(\"Test with random values:\", get_max_profit(test_random))\n",
    "print(\"Test with constant values:\", get_max_profit(test_contant_values))\n",
    "print(\"Test with descending values:\", get_max_profit(test_descending_values))\n",
    "get_max_profit(test_empty_list)"
   ]
  }
 ],
 "metadata": {
  "kernelspec": {
   "display_name": "Python 3",
   "language": "python",
   "name": "python3"
  },
  "language_info": {
   "codemirror_mode": {
    "name": "ipython",
    "version": 3
   },
   "file_extension": ".py",
   "mimetype": "text/x-python",
   "name": "python",
   "nbconvert_exporter": "python",
   "pygments_lexer": "ipython3",
   "version": "3.6.4"
  }
 },
 "nbformat": 4,
 "nbformat_minor": 2
}
