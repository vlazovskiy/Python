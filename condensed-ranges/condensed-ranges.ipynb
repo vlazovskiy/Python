{
 "cells": [
  {
   "cell_type": "code",
   "execution_count": 12,
   "metadata": {
    "collapsed": true
   },
   "outputs": [],
   "source": [
    "def merge_ranges(ranges):\n",
    "    \n",
    "    sorted_ranges = sorted(ranges)\n",
    "    \n",
    "    merged_ranges = [sorted_ranges[0]]\n",
    "    \n",
    "    for range_start, range_finish in sorted_ranges[1:]:\n",
    "        \n",
    "        merged_range_start, merged_range_finish = merged_ranges[-1]\n",
    "        \n",
    "        if merged_range_finish < range_start:\n",
    "            merged_ranges.append((range_start, range_finish))\n",
    "   \n",
    "        else:\n",
    "            merged_ranges[-1] = (merged_range_start, max(merged_range_finish, range_finish))\n",
    "            \n",
    "    return merged_ranges"
   ]
  },
  {
   "cell_type": "code",
   "execution_count": 13,
   "metadata": {
    "collapsed": true
   },
   "outputs": [],
   "source": [
    "range_1 = [(0, 1), (3, 5), (4, 8), (10, 12), (9, 10)]\n",
    "range_2 = [(1, 3), (2, 4)]\n",
    "range_3 = [(1, 5), (2, 3)]\n",
    "range_4 = [(1, 10), (2, 6), (3, 5), (7, 9)]"
   ]
  },
  {
   "cell_type": "code",
   "execution_count": 14,
   "metadata": {},
   "outputs": [
    {
     "name": "stdout",
     "output_type": "stream",
     "text": [
      "[(0, 1), (3, 8), (9, 12)]\n",
      "[(1, 4)]\n",
      "[(1, 5)]\n",
      "[(1, 10)]\n"
     ]
    }
   ],
   "source": [
    "print(merge_ranges(range_1))\n",
    "print(merge_ranges(range_2))\n",
    "print(merge_ranges(range_3))\n",
    "print(merge_ranges(range_4))"
   ]
  }
 ],
 "metadata": {
  "kernelspec": {
   "display_name": "Python 3",
   "language": "python",
   "name": "python3"
  },
  "language_info": {
   "codemirror_mode": {
    "name": "ipython",
    "version": 3
   },
   "file_extension": ".py",
   "mimetype": "text/x-python",
   "name": "python",
   "nbconvert_exporter": "python",
   "pygments_lexer": "ipython3",
   "version": "3.6.4"
  }
 },
 "nbformat": 4,
 "nbformat_minor": 2
}
