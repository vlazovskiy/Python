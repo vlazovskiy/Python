{
 "cells": [
  {
   "cell_type": "code",
   "execution_count": 31,
   "metadata": {
    "collapsed": true
   },
   "outputs": [],
   "source": [
    "def firstNotRepeatingCharacter(s):\n",
    "    unique_chars_list = []\n",
    "    unique_chars_set = set()\n",
    "    repeating_chars = set()\n",
    "    \n",
    "    for char in s:\n",
    "        if char not in unique_chars_set:\n",
    "            unique_chars_list.append(char)\n",
    "            unique_chars_set.add(char)\n",
    "        else:\n",
    "            repeating_chars.add(char)\n",
    "    \n",
    "    for char in unique_chars_list:\n",
    "        if char not in repeating_chars:\n",
    "            return char\n",
    "    \n",
    "    return '_'"
   ]
  },
  {
   "cell_type": "code",
   "execution_count": 32,
   "metadata": {},
   "outputs": [
    {
     "data": {
      "text/plain": [
       "'c'"
      ]
     },
     "execution_count": 32,
     "metadata": {},
     "output_type": "execute_result"
    }
   ],
   "source": [
    "s = \"abacabad\"\n",
    "firstNotRepeatingCharacter(s)"
   ]
  },
  {
   "cell_type": "code",
   "execution_count": 33,
   "metadata": {},
   "outputs": [
    {
     "data": {
      "text/plain": [
       "'_'"
      ]
     },
     "execution_count": 33,
     "metadata": {},
     "output_type": "execute_result"
    }
   ],
   "source": [
    "s = \"abacabaabacaba\"\n",
    "firstNotRepeatingCharacter(s)"
   ]
  }
 ],
 "metadata": {
  "kernelspec": {
   "display_name": "Python 3",
   "language": "python",
   "name": "python3"
  },
  "language_info": {
   "codemirror_mode": {
    "name": "ipython",
    "version": 3
   },
   "file_extension": ".py",
   "mimetype": "text/x-python",
   "name": "python",
   "nbconvert_exporter": "python",
   "pygments_lexer": "ipython3",
   "version": "3.6.4"
  }
 },
 "nbformat": 4,
 "nbformat_minor": 2
}
