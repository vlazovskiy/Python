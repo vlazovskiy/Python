{
 "cells": [
  {
   "cell_type": "code",
   "execution_count": 1,
   "metadata": {
    "collapsed": true
   },
   "outputs": [],
   "source": [
    "import unittest"
   ]
  },
  {
   "cell_type": "code",
   "execution_count": 2,
   "metadata": {
    "collapsed": true
   },
   "outputs": [],
   "source": [
    "def firstDuplicate(a):\n",
    "\n",
    "    temp_set = set()\n",
    "    \n",
    "    for number in a: \n",
    "        if number not in temp_set:\n",
    "            temp_set.add(number)\n",
    "        else:\n",
    "            return number\n",
    "        \n",
    "    return -1"
   ]
  },
  {
   "cell_type": "code",
   "execution_count": 3,
   "metadata": {
    "collapsed": true
   },
   "outputs": [],
   "source": [
    "class TestSolution(unittest.TestCase):\n",
    "\n",
    "    def test_example1(self):\n",
    "        self.assertEqual(3, firstDuplicate([2, 1, 3, 5, 3, 2]))\n",
    "\n",
    "    def test_example2(self):\n",
    "        self.assertEqual(-1, firstDuplicate([2, 4, 3, 5, 1]))\n",
    "\n",
    "    def test_example3(self):\n",
    "        self.assertEqual(-1, firstDuplicate([1]))\n",
    "        \n",
    "    def test_example4(self):\n",
    "        self.assertEqual(2, firstDuplicate([2, 2]))\n",
    "\n",
    "    def test_example5(self):\n",
    "        self.assertEqual(-1, firstDuplicate([2, 1]))\n",
    "\n",
    "    def test_example6(self):\n",
    "        self.assertEqual(-1, firstDuplicate([2, 1, 3]))\n",
    "\n",
    "    def test_example7(self):\n",
    "        self.assertEqual(3, firstDuplicate([2, 3, 3]))\n",
    "        \n",
    "    def test_example8(self):\n",
    "        self.assertEqual(3, firstDuplicate([3, 3, 3]))\n",
    "        \n",
    "    def test_example9(self):\n",
    "        self.assertEqual(6, firstDuplicate([8, 4, 6, 2, 6, 4, 7, 9, 5, 8]))\n",
    "        \n",
    "    def test_example10(self):\n",
    "        self.assertEqual(-1, firstDuplicate([10, 6, 8, 4, 9, 1, 7, 2, 5, 3]))\n",
    "        \n",
    "    def test_example11(self):\n",
    "        self.assertEqual(1, firstDuplicate([1, 1, 2, 2, 1]))"
   ]
  },
  {
   "cell_type": "code",
   "execution_count": 4,
   "metadata": {},
   "outputs": [
    {
     "name": "stderr",
     "output_type": "stream",
     "text": [
      "...........\n",
      "----------------------------------------------------------------------\n",
      "Ran 11 tests in 0.025s\n",
      "\n",
      "OK\n"
     ]
    }
   ],
   "source": [
    "if __name__ == '__main__':\n",
    "    unittest.main(argv=['first-arg-is-ignored'], exit=False)"
   ]
  }
 ],
 "metadata": {
  "kernelspec": {
   "display_name": "Python 3",
   "language": "python",
   "name": "python3"
  },
  "language_info": {
   "codemirror_mode": {
    "name": "ipython",
    "version": 3
   },
   "file_extension": ".py",
   "mimetype": "text/x-python",
   "name": "python",
   "nbconvert_exporter": "python",
   "pygments_lexer": "ipython3",
   "version": "3.6.4"
  }
 },
 "nbformat": 4,
 "nbformat_minor": 2
}
