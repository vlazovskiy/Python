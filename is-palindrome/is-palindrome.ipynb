{
 "cells": [
  {
   "cell_type": "code",
   "execution_count": 18,
   "metadata": {
    "collapsed": true
   },
   "outputs": [],
   "source": [
    "def is_palindrome(input_string):\n",
    "    \n",
    "    tracking_set = set()\n",
    "        \n",
    "    for character in input_string:\n",
    "        if character in tracking_set:\n",
    "            tracking_set.discard(character)\n",
    "        else:\n",
    "            tracking_set.add(character)\n",
    "\n",
    "    return len(tracking_set) <= 1"
   ]
  },
  {
   "cell_type": "code",
   "execution_count": 21,
   "metadata": {},
   "outputs": [],
   "source": [
    "string_1 = ''\n",
    "string_2 = 'madam'\n",
    "string_3 = 'madama'\n",
    "string_4 = 'mamadamam'\n",
    "string_5 = 'madman'"
   ]
  },
  {
   "cell_type": "code",
   "execution_count": 22,
   "metadata": {},
   "outputs": [
    {
     "name": "stdout",
     "output_type": "stream",
     "text": [
      "True\n",
      "True\n",
      "False\n",
      "True\n",
      "False\n"
     ]
    }
   ],
   "source": [
    "print(is_palindrome(string_1))\n",
    "print(is_palindrome(string_2))\n",
    "print(is_palindrome(string_3))\n",
    "print(is_palindrome(string_4))\n",
    "print(is_palindrome(string_5))"
   ]
  }
 ],
 "metadata": {
  "kernelspec": {
   "display_name": "Python 3",
   "language": "python",
   "name": "python3"
  },
  "language_info": {
   "codemirror_mode": {
    "name": "ipython",
    "version": 3
   },
   "file_extension": ".py",
   "mimetype": "text/x-python",
   "name": "python",
   "nbconvert_exporter": "python",
   "pygments_lexer": "ipython3",
   "version": "3.6.4"
  }
 },
 "nbformat": 4,
 "nbformat_minor": 2
}
