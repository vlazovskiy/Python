{
 "cells": [
  {
   "cell_type": "code",
   "execution_count": 1,
   "metadata": {
    "collapsed": true
   },
   "outputs": [],
   "source": [
    "class Complex(object):\n",
    "    \"\"\"Class for complex numbers which supports basic operations.\"\"\"\n",
    "    \n",
    "    default_real = 0\n",
    "    default_imaginary = 0\n",
    "    \n",
    "    def __init__(self, real = default_real, imaginary = default_imaginary):\n",
    "        self.real = real\n",
    "        self.imaginary = imaginary\n",
    "        \n",
    "    def __add__(self, other):\n",
    "        return Complex((self.real + other.real), (self.imaginary + other.imaginary))\n",
    "    \n",
    "    def __sub__(self, other):\n",
    "        return Complex((self.real - other.real), (self.imaginary - other.imaginary))\n",
    "    \n",
    "    def __mul__(self, other):\n",
    "        return Complex((self.real*other.real - self.imaginary*other.imaginary), \\\n",
    "                       (self.imaginary*other.real + self.real*other.imaginary))\n",
    "    \n",
    "    def __truediv__(self, other):\n",
    "        try: \n",
    "            conjugate = Complex(other.real, -other.imaginary)\n",
    "            return Complex(self.__mul__(conjugate).real/(other.real**2 + other.imaginary**2), \\\n",
    "                           self.__mul__(conjugate).imaginary/(other.real**2 + other.imaginary**2))\n",
    "        except:\n",
    "            print(\"Error: Division by zero.\")\n",
    "        \n",
    "    def mod(self):\n",
    "        return '{0:.2f}'.format((self.real**2 + self.imaginary**2)**0.5)\n",
    "    \n",
    "    def display(self):\n",
    "        print('{0:.2f}{1:+.2f}i'.format(self.real, self.imaginary))"
   ]
  }
 ],
 "metadata": {
  "kernelspec": {
   "display_name": "Python 3",
   "language": "python",
   "name": "python3"
  },
  "language_info": {
   "codemirror_mode": {
    "name": "ipython",
    "version": 3
   },
   "file_extension": ".py",
   "mimetype": "text/x-python",
   "name": "python",
   "nbconvert_exporter": "python",
   "pygments_lexer": "ipython3",
   "version": "3.6.4"
  }
 },
 "nbformat": 4,
 "nbformat_minor": 2
}
