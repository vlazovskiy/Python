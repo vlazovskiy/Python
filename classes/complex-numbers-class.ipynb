{
 "cells": [
  {
   "cell_type": "code",
   "execution_count": 1,
   "metadata": {
    "collapsed": true
   },
   "outputs": [],
   "source": [
    "class Complex(object):\n",
    "    \"\"\"Class for complex numbers which supports basic operations.\n",
    "       Some operators are overloaded.\"\"\"\n",
    "    \n",
    "    default_real = 0\n",
    "    default_imaginary = 0\n",
    "    \n",
    "    def __init__(self, real = default_real, imaginary = default_imaginary):\n",
    "        self.real = real\n",
    "        self.imaginary = imaginary\n",
    "        \n",
    "    def __add__(self, other):\n",
    "        return Complex((self.real + other.real), (self.imaginary + other.imaginary))\n",
    "    \n",
    "    def __sub__(self, other):\n",
    "        return Complex((self.real - other.real), (self.imaginary - other.imaginary))\n",
    "    \n",
    "    def __mul__(self, other):\n",
    "        return Complex((self.real*other.real - self.imaginary*other.imaginary), \\\n",
    "                       (self.imaginary*other.real + self.real*other.imaginary))\n",
    "    \n",
    "    def __truediv__(self, other):\n",
    "        try: \n",
    "            conjugate = Complex(other.real, -other.imaginary)\n",
    "            return Complex(self.__mul__(conjugate).real/(other.real**2 + other.imaginary**2), \\\n",
    "                           self.__mul__(conjugate).imaginary/(other.real**2 + other.imaginary**2))\n",
    "        except:\n",
    "            return 'division by zero'\n",
    "        \n",
    "    def mod(self):\n",
    "        return '{0:.2f}'.format((self.real**2 + self.imaginary**2)**0.5)\n",
    "    \n",
    "    def __str__(self):\n",
    "        return '{0:.2f}{1:+.2f}i'.format(self.real, self.imaginary)"
   ]
  },
  {
   "cell_type": "code",
   "execution_count": 2,
   "metadata": {},
   "outputs": [
    {
     "name": "stdout",
     "output_type": "stream",
     "text": [
      "7.00+7.00i\n",
      "-3.00-5.00i\n",
      "4.00+17.00i\n",
      "0.26-0.11i\n",
      "2.24\n",
      "7.81\n"
     ]
    }
   ],
   "source": [
    "x = Complex(2, 1)\n",
    "y = Complex(5, 6)\n",
    "print(*map(str, [x+y, x-y, x*y, x/y, x.mod(), y.mod()]), sep='\\n')"
   ]
  },
  {
   "cell_type": "code",
   "execution_count": 3,
   "metadata": {},
   "outputs": [
    {
     "name": "stdout",
     "output_type": "stream",
     "text": [
      "2.00+1.00i\n",
      "2.00+1.00i\n",
      "0.00+0.00i\n",
      "division by zero\n",
      "2.24\n",
      "0.00\n"
     ]
    }
   ],
   "source": [
    "x = Complex(2, 1)\n",
    "y = Complex(0, 0)\n",
    "print(*map(str, [x+y, x-y, x*y, x/y, x.mod(), y.mod()]), sep='\\n')"
   ]
  }
 ],
 "metadata": {
  "kernelspec": {
   "display_name": "Python 3",
   "language": "python",
   "name": "python3"
  },
  "language_info": {
   "codemirror_mode": {
    "name": "ipython",
    "version": 3
   },
   "file_extension": ".py",
   "mimetype": "text/x-python",
   "name": "python",
   "nbconvert_exporter": "python",
   "pygments_lexer": "ipython3",
   "version": "3.6.4"
  }
 },
 "nbformat": 4,
 "nbformat_minor": 2
}
