{
 "cells": [
  {
   "cell_type": "code",
   "execution_count": 1,
   "metadata": {
    "collapsed": true
   },
   "outputs": [],
   "source": [
    "class Vector(object):\n",
    "    \n",
    "    def __init__(self, x = 0, y = 0, z = 0):\n",
    "        self.x = x\n",
    "        self.y = y\n",
    "        self.z = z\n",
    "    \n",
    "    def __add__(self, no):\n",
    "        return Vector(self.x + no.x, self.y + no.y, self.z + no.z)\n",
    "\n",
    "    def __sub__(self, no):\n",
    "        return Vector(self.x - no.x, self.y - no.y, self.z - no.z)\n",
    "\n",
    "    def dot(self, no):\n",
    "        return self.x*no.x + self.y*no.y + self.z*no.z\n",
    "\n",
    "    def cross(self, no):\n",
    "        return Vector(self.y*no.z-self.z*no.y, self.z*no.x-self.x*no.z, self.x*no.y-self.y*no.x)\n",
    "        \n",
    "    def absolute(self):\n",
    "        return '{0:.2f}'.format((self.x ** 2 + self.y ** 2 + self.z ** 2)**0.5)\n",
    "    \n",
    "    def __str__(self):\n",
    "        return '({0:.2f}, {0:.2f}, {0:.2f})'.format(self.x, self.y, self.z)"
   ]
  },
  {
   "cell_type": "code",
   "execution_count": 2,
   "metadata": {},
   "outputs": [
    {
     "name": "stdout",
     "output_type": "stream",
     "text": [
      "(5.00, 5.00, 5.00)\n",
      "(-3.00, -3.00, -3.00)\n",
      "32\n",
      "(-3.00, -3.00, -3.00)\n",
      "3.74\n",
      "8.77\n"
     ]
    }
   ],
   "source": [
    "x = Vector(1, 2, 3)\n",
    "y = Vector(4, 5, 6)\n",
    "print(*map(str, [x+y, x-y, x.dot(y), x.cross(y), x.absolute(), y.absolute()]), sep='\\n')"
   ]
  }
 ],
 "metadata": {
  "kernelspec": {
   "display_name": "Python 3",
   "language": "python",
   "name": "python3"
  },
  "language_info": {
   "codemirror_mode": {
    "name": "ipython",
    "version": 3
   },
   "file_extension": ".py",
   "mimetype": "text/x-python",
   "name": "python",
   "nbconvert_exporter": "python",
   "pygments_lexer": "ipython3",
   "version": "3.6.4"
  }
 },
 "nbformat": 4,
 "nbformat_minor": 2
}
