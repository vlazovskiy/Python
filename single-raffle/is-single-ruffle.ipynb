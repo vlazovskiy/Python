{
 "cells": [
  {
   "cell_type": "code",
   "execution_count": 1,
   "metadata": {
    "collapsed": true
   },
   "outputs": [],
   "source": [
    "import random"
   ]
  },
  {
   "cell_type": "code",
   "execution_count": 2,
   "metadata": {
    "collapsed": true
   },
   "outputs": [],
   "source": [
    "#Create a sample deck and split it into two halves\n",
    "\n",
    "shuffled_deck = random.sample(range(1, 53), 52)\n",
    "\n",
    "half1 = [shuffled_deck[index] for index in range(0, 52) if (index % 2 == 0)]\n",
    "half2 = [shuffled_deck[index] for index in range(0, 52) if (index % 2 == 1)]"
   ]
  },
  {
   "cell_type": "code",
   "execution_count": 3,
   "metadata": {},
   "outputs": [],
   "source": [
    "def is_single_raffle(shuffled_deck, half1, half2):\n",
    "    \n",
    "    half1_index = 0\n",
    "    half2_index = 0\n",
    "    \n",
    "    for index in range(0, 52):\n",
    "        if (half1_index <= len(half1)-1) and (shuffled_deck[index] == half1[half1_index]):\n",
    "            half1_index = half1_index + 1\n",
    "        elif (half2_index <= len(half2)-1) and (shuffled_deck[index] == half2[half2_index]):\n",
    "            half2_index = half2_index + 1\n",
    "        else:\n",
    "            return False\n",
    "        \n",
    "    return True"
   ]
  },
  {
   "cell_type": "code",
   "execution_count": 4,
   "metadata": {},
   "outputs": [
    {
     "data": {
      "text/plain": [
       "True"
      ]
     },
     "execution_count": 4,
     "metadata": {},
     "output_type": "execute_result"
    }
   ],
   "source": [
    "is_single_raffle(shuffled_deck, half1, half2)"
   ]
  },
  {
   "cell_type": "code",
   "execution_count": 5,
   "metadata": {},
   "outputs": [],
   "source": [
    "#Modify one half to be different\n",
    "\n",
    "half1[12], half1[20] = half1[20], half1[12]"
   ]
  },
  {
   "cell_type": "code",
   "execution_count": 6,
   "metadata": {},
   "outputs": [
    {
     "data": {
      "text/plain": [
       "False"
      ]
     },
     "execution_count": 6,
     "metadata": {},
     "output_type": "execute_result"
    }
   ],
   "source": [
    "is_single_raffle(shuffled_deck, half1, half2)"
   ]
  }
 ],
 "metadata": {
  "kernelspec": {
   "display_name": "Python 3",
   "language": "python",
   "name": "python3"
  },
  "language_info": {
   "codemirror_mode": {
    "name": "ipython",
    "version": 3
   },
   "file_extension": ".py",
   "mimetype": "text/x-python",
   "name": "python",
   "nbconvert_exporter": "python",
   "pygments_lexer": "ipython3",
   "version": "3.6.4"
  }
 },
 "nbformat": 4,
 "nbformat_minor": 2
}
